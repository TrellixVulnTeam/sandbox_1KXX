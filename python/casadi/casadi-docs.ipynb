{
 "cells": [
  {
   "cell_type": "code",
   "execution_count": null,
   "metadata": {},
   "outputs": [],
   "source": [
    "import casadi\n",
    "from casadi import *"
   ]
  },
  {
   "cell_type": "markdown",
   "metadata": {},
   "source": [
    "These notes come from the [official CasADi documentation](https://web.casadi.org/docs)."
   ]
  },
  {
   "cell_type": "markdown",
   "metadata": {},
   "source": [
    "# 3. Symbolic Framework"
   ]
  },
  {
   "cell_type": "code",
   "execution_count": null,
   "metadata": {},
   "outputs": [],
   "source": [
    "x = MX.sym(\"x\")"
   ]
  },
  {
   "cell_type": "code",
   "execution_count": null,
   "metadata": {},
   "outputs": [],
   "source": [
    "x"
   ]
  },
  {
   "cell_type": "code",
   "execution_count": null,
   "metadata": {},
   "outputs": [],
   "source": [
    "y = SX.sym('y', 5)\n",
    "Z = SX.sym('Z', 4, 2)"
   ]
  },
  {
   "cell_type": "code",
   "execution_count": null,
   "metadata": {},
   "outputs": [],
   "source": [
    "y"
   ]
  },
  {
   "cell_type": "code",
   "execution_count": null,
   "metadata": {},
   "outputs": [],
   "source": [
    "Z"
   ]
  },
  {
   "cell_type": "code",
   "execution_count": null,
   "metadata": {},
   "outputs": [],
   "source": [
    "f = x**2 + 10\n",
    "f = sqrt(f)\n",
    "print(f)"
   ]
  },
  {
   "cell_type": "code",
   "execution_count": null,
   "metadata": {},
   "outputs": [],
   "source": [
    "f"
   ]
  },
  {
   "cell_type": "code",
   "execution_count": null,
   "metadata": {},
   "outputs": [],
   "source": [
    "B1 = SX.zeros(4, 5)"
   ]
  },
  {
   "cell_type": "code",
   "execution_count": null,
   "metadata": {},
   "outputs": [],
   "source": [
    "B1"
   ]
  },
  {
   "cell_type": "code",
   "execution_count": null,
   "metadata": {},
   "outputs": [],
   "source": [
    "B2 = SX(4, 5)"
   ]
  },
  {
   "cell_type": "code",
   "execution_count": null,
   "metadata": {},
   "outputs": [],
   "source": [
    "B2"
   ]
  },
  {
   "cell_type": "code",
   "execution_count": null,
   "metadata": {},
   "outputs": [],
   "source": [
    "B4 = SX.eye(4)"
   ]
  },
  {
   "cell_type": "code",
   "execution_count": null,
   "metadata": {},
   "outputs": [],
   "source": [
    "B4"
   ]
  },
  {
   "cell_type": "code",
   "execution_count": null,
   "metadata": {},
   "outputs": [],
   "source": [
    "C = DM(2, 3)\n",
    "C_dense = C.full()\n",
    "from numpy import array\n",
    "C_dense = array(C) # equivalent\n",
    "C_dense"
   ]
  },
  {
   "cell_type": "code",
   "execution_count": null,
   "metadata": {},
   "outputs": [],
   "source": [
    "C_sparse = C.sparse()\n",
    "from scipy.sparse import csc_matrix\n",
    "C_sparse = csc_matrix(C) # equivalent\n",
    "C_sparse"
   ]
  },
  {
   "cell_type": "code",
   "execution_count": null,
   "metadata": {},
   "outputs": [],
   "source": [
    "x = SX.sym('x', 2, 2)\n",
    "y = SX.sym('y')\n",
    "f = 3*x + y\n",
    "print(f)\n",
    "print(f.shape)"
   ]
  },
  {
   "cell_type": "code",
   "execution_count": null,
   "metadata": {},
   "outputs": [],
   "source": [
    "x = MX.sym('x', 2, 2)\n",
    "y = MX.sym('y')\n",
    "f = 3*x + y\n",
    "print(f)\n",
    "print(f.shape)"
   ]
  },
  {
   "cell_type": "code",
   "execution_count": null,
   "metadata": {},
   "outputs": [],
   "source": [
    "print(x[0,0])"
   ]
  },
  {
   "cell_type": "code",
   "execution_count": null,
   "metadata": {},
   "outputs": [],
   "source": [
    "x = MX.sym('x', 2)\n",
    "A = MX(2, 2)\n",
    "A[0,0] = x[0]\n",
    "A[1,1] = x[0] + x[1]\n",
    "print('A:', A)"
   ]
  },
  {
   "cell_type": "code",
   "execution_count": null,
   "metadata": {},
   "outputs": [],
   "source": [
    "print(SX.sym('x', Sparsity.lower(3)))"
   ]
  },
  {
   "cell_type": "code",
   "execution_count": null,
   "metadata": {},
   "outputs": [],
   "source": [
    "a = SX.sym('x', 2, 2)\n",
    "b = SX.sym('x', 3, 3)\n",
    "print('a:', a)\n",
    "print('b:', b)"
   ]
  },
  {
   "cell_type": "code",
   "execution_count": null,
   "metadata": {},
   "outputs": [],
   "source": [
    "M = SX([[3, 7], [4, 5]])\n",
    "print(M[0,:])\n",
    "M[0,:] = 1\n",
    "print(M)"
   ]
  },
  {
   "cell_type": "code",
   "execution_count": null,
   "metadata": {},
   "outputs": [],
   "source": [
    "y = SX.sym('y', 2, 2)\n",
    "print(y * y) # element-wise multiplication\n",
    "print(y @ y) # matrix multiplication"
   ]
  },
  {
   "cell_type": "code",
   "execution_count": null,
   "metadata": {},
   "outputs": [],
   "source": [
    "x = SX.sym('x', 5)\n",
    "print(x * x)   # element-wise squaring\n",
    "print(x.T @ x) # dot product\n",
    "print(dot(x, x))"
   ]
  },
  {
   "cell_type": "code",
   "execution_count": null,
   "metadata": {},
   "outputs": [],
   "source": [
    "x = SX.sym('x', 5)\n",
    "y = SX.sym('y', 5)\n",
    "print(vertcat(x, y))\n",
    "print(horzcat(x, y))\n",
    "print(vcat([x, y]))\n",
    "print(hcat([x, y]))"
   ]
  },
  {
   "cell_type": "code",
   "execution_count": null,
   "metadata": {},
   "outputs": [],
   "source": [
    "x = SX.sym('x', 5, 3)\n",
    "w = horzsplit(x, [0, 1, 3])\n",
    "w"
   ]
  },
  {
   "cell_type": "markdown",
   "metadata": {},
   "source": [
    "## 3.9. Automatic Differentiation"
   ]
  },
  {
   "cell_type": "markdown",
   "metadata": {},
   "source": [
    "The single most central functionality of CasADi is **algorithmic (auto automatic) differentiation** (AD).  For a function $f : \\mathcal{R}^N \\rightarrow \\mathcal{R}^M$,\n",
    "\n",
    "\\begin{equation*}\n",
    "  y = f(x),\n",
    "\\end{equation*}\n",
    "\n",
    "the **forward mode** directional derivatives can be used to calculate the Jacobian-times-vector products:\n",
    "\n",
    "\\begin{equation*}\n",
    " \\hat{y}\n",
    "  =\n",
    "   \\frac{\\partial f}{\\partial x}\n",
    "   \\hat{x}.\n",
    "\\end{equation*}\n",
    "\n",
    "Similarly, **reverse mode** directional derivatives can be used to calculate the Jacobian-transposed-times-vector products:\n",
    "\n",
    "\\begin{equation*}\n",
    " \\bar{x}\n",
    "  =\n",
    "   \\left(\n",
    "    \\frac{\\partial f}{\\partial x}\n",
    "   \\right)^{\\!\\!\\top}\n",
    "   \\bar{y}.\n",
    "\\end{equation*}\n",
    "\n",
    "Both forward and reverse mode directional derivatives are calculated at a cost proportional to evaluating $f(x)$, **regardless of the dimension of $x$**.\n",
    "\n",
    "Of note, CasADi is also capable of generating complete **sparse** Jacobians efficiently.  Hessians are also efficently computed."
   ]
  },
  {
   "cell_type": "code",
   "execution_count": null,
   "metadata": {},
   "outputs": [],
   "source": [
    "A = SX.sym('A', 3, 2)\n",
    "x = SX.sym('x', 2)\n",
    "print(jacobian(A@x, x))"
   ]
  },
  {
   "cell_type": "code",
   "execution_count": null,
   "metadata": {},
   "outputs": [],
   "source": [
    "print(gradient(dot(A, A), A))"
   ]
  },
  {
   "cell_type": "code",
   "execution_count": null,
   "metadata": {},
   "outputs": [],
   "source": [
    "A = DM([[1, 3], [4, 7], [2, 8]])\n",
    "x = SX.sym('x', 2)\n",
    "v = SX.sym('v', 2)\n",
    "f = mtimes(A, x)\n",
    "print(jtimes(f, x, v))"
   ]
  },
  {
   "cell_type": "code",
   "execution_count": null,
   "metadata": {},
   "outputs": [],
   "source": [
    "w = SX.sym('w', 3)\n",
    "f = A @ x\n",
    "print(jtimes(f, x, w, True))"
   ]
  },
  {
   "cell_type": "markdown",
   "metadata": {},
   "source": [
    "# 4. Function Objects"
   ]
  },
  {
   "cell_type": "code",
   "execution_count": null,
   "metadata": {},
   "outputs": [],
   "source": [
    "x = SX.sym('x', 2)\n",
    "y = SX.sym('y')\n",
    "# maps (x,y) -> (x,sin(y)*x)\n",
    "# we name the inputs and outputs for printing purposes\n",
    "f = Function('f', [x, y], [x, sin(y)*x], ['x', 'y'], ['r', 'q'])\n",
    "print(f)"
   ]
  },
  {
   "cell_type": "code",
   "execution_count": null,
   "metadata": {},
   "outputs": [],
   "source": [
    "f(1.1, 3.3)"
   ]
  },
  {
   "cell_type": "code",
   "execution_count": null,
   "metadata": {},
   "outputs": [],
   "source": [
    "res = f(x=[1.1, 2.2], y=3.3)\n",
    "res"
   ]
  },
  {
   "cell_type": "markdown",
   "metadata": {},
   "source": [
    "Note, when passing in a scalar value but the input is a vector or matrix, the framework will automatically duplicate that value to have it match the size of the expected input."
   ]
  },
  {
   "cell_type": "code",
   "execution_count": null,
   "metadata": {},
   "outputs": [],
   "source": [
    "res = f.call([[1.1, 2.2], 3.3])\n",
    "res"
   ]
  },
  {
   "cell_type": "code",
   "execution_count": null,
   "metadata": {},
   "outputs": [],
   "source": [
    "res = f.call({'x': [1.1, 2.2], 'y': 3.3})\n",
    "res"
   ]
  },
  {
   "cell_type": "markdown",
   "metadata": {},
   "source": [
    "Stopped at section [4.3](https://web.casadi.org/docs/#nonlinear-root-finding-problems).  Continue from there."
   ]
  },
  {
   "cell_type": "code",
   "execution_count": null,
   "metadata": {},
   "outputs": [],
   "source": []
  }
 ],
 "metadata": {
  "kernelspec": {
   "display_name": "Python 3",
   "language": "python",
   "name": "python3"
  },
  "language_info": {
   "codemirror_mode": {
    "name": "ipython",
    "version": 3
   },
   "file_extension": ".py",
   "mimetype": "text/x-python",
   "name": "python",
   "nbconvert_exporter": "python",
   "pygments_lexer": "ipython3",
   "version": "3.7.2"
  }
 },
 "nbformat": 4,
 "nbformat_minor": 2
}
