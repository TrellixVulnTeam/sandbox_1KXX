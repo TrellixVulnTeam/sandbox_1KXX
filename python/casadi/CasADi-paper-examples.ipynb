{
 "cells": [
  {
   "cell_type": "code",
   "execution_count": null,
   "metadata": {},
   "outputs": [],
   "source": [
    "from casadi import *"
   ]
  },
  {
   "cell_type": "markdown",
   "metadata": {},
   "source": [
    "# 5.1 Unconstrained Optimization\n",
    "\n",
    "On page 21 of their 2018 CasADi paper, we are working on minimizing **Rosenbrock's banana-valley function**.\n",
    "\n",
    "\\begin{equation*}\n",
    "  \\min_{x,y}\n",
    "  ~~\n",
    "  x^2\n",
    "  +\n",
    "  100\n",
    "  \\left(\n",
    "    y - (1 - x)^2\n",
    "  \\right)^2\n",
    "\\end{equation*}\n",
    "\n",
    "We use the nonlinear programming (NLP) solver called IPOPT, which takes functions $f(x, p)$, $g(x, p)$, decision variable $x$ and known parameter variable $p$.  Here we only need to specify $f(x)$ and $x$ since we have no constraints."
   ]
  },
  {
   "cell_type": "code",
   "execution_count": null,
   "metadata": {},
   "outputs": [],
   "source": [
    "x = SX.sym('x')\n",
    "y = SX.sym('y')"
   ]
  },
  {
   "cell_type": "code",
   "execution_count": null,
   "metadata": {},
   "outputs": [],
   "source": [
    "z = y - (1 - x)**2\n",
    "f = x**2 + 100 * z**2\n",
    "f"
   ]
  },
  {
   "cell_type": "code",
   "execution_count": null,
   "metadata": {},
   "outputs": [],
   "source": [
    "P = {'x': vertcat(x, y), 'f': f}\n",
    "F = nlpsol('F', 'ipopt', P)\n",
    "F"
   ]
  },
  {
   "cell_type": "markdown",
   "metadata": {},
   "source": [
    "That looks like some garbage, but it's ultimately a function that takes two $x$ parameters, two lower bounds for $x$ (which are $-\\infty$ by default), two upper bounds for $x$ (which are $\\infty$ by default), and the associated lambda variables for the Lagrangian dual.\n",
    "\n",
    "Now to perform the optimization."
   ]
  },
  {
   "cell_type": "code",
   "execution_count": null,
   "metadata": {},
   "outputs": [],
   "source": [
    "r = F(x0=[2.5, 3.0])"
   ]
  },
  {
   "cell_type": "code",
   "execution_count": null,
   "metadata": {},
   "outputs": [],
   "source": [
    "print(r['x'])\n",
    "r"
   ]
  },
  {
   "cell_type": "markdown",
   "metadata": {},
   "source": [
    "# 5.2 Nonlinear Programming Example\n",
    "\n",
    "We now solve the same problem as in 5.1, but this time as a constrained optimization problem by _lifting_ it using a new variable $z$.\n",
    "\n",
    "\\begin{align*}\n",
    " \\min_{x,y,z}\n",
    "  & ~~\n",
    "   x^2 + 100 z^2\n",
    " \\\\\n",
    " \\text{subject to}\n",
    "  & ~~\n",
    "   z + (1 - x)^2 - y = 0\n",
    "\\end{align*}\n",
    "\n",
    "This is the exact same problem, just framed with a constraint.  We can see this by solving the constraint for $z$ and substituting it in to the minimization.  However, that cannot always be done in general."
   ]
  },
  {
   "cell_type": "code",
   "execution_count": null,
   "metadata": {},
   "outputs": [],
   "source": [
    "x = SX.sym('x')\n",
    "y = SX.sym('y')\n",
    "z = SX.sym('z')\n",
    "f = x**2 + 100 * z**2\n",
    "g = z + (1-x)**2 - y\n",
    "print('f: ', f)\n",
    "print('g: ', g)"
   ]
  },
  {
   "cell_type": "code",
   "execution_count": null,
   "metadata": {},
   "outputs": [],
   "source": [
    "P = {'x': vertcat(x, y, z), 'f': f, 'g': g}\n",
    "F = nlpsol('F', 'ipopt', P)\n",
    "F"
   ]
  },
  {
   "cell_type": "code",
   "execution_count": null,
   "metadata": {},
   "outputs": [],
   "source": [
    "r = F(x0=[2.5, 3.0, -(1-2.5)**2 + 3.0], ubg=0, lbg=0)"
   ]
  },
  {
   "cell_type": "code",
   "execution_count": null,
   "metadata": {},
   "outputs": [],
   "source": [
    "r"
   ]
  },
  {
   "cell_type": "markdown",
   "metadata": {},
   "source": [
    "# 5.3 Automatic Sensitivity Analysis Example\n",
    "\n",
    "Here we want to analyze the [Van der Pol oscillator](https://en.wikipedia.org/wiki/Van_der_Pol_oscillator) using the following ordinary differential equation (ODE):\n",
    "\n",
    "\\begin{equation*}\n",
    " \\ddot{x}\n",
    "  =\n",
    "   (1 - x^2)\n",
    "   \\dot{x}\n",
    "   -\n",
    "   x\n",
    "   +\n",
    "   p,\n",
    " \\quad\n",
    " x(0) = 1,\n",
    " ~\n",
    " \\dot{x}(0) = 0\n",
    "\\end{equation*}\n",
    "\n",
    "In order to solve this nonlinear ODE, we convert it into differential-algebraic equations (DAE) by renaming $x \\rightarrow x_2$ and introducing a new variable $x_1 = \\dot{x_2}$.\n",
    "\n",
    "\\begin{equation*}\n",
    " \\left\\{\n",
    "  \\begin{array}{ll}\n",
    "   \\dot{x}_1\n",
    "    =\n",
    "     (1 - x_2^2)\n",
    "     x_1\n",
    "     -\n",
    "     x_2\n",
    "     +\n",
    "     p,\n",
    "    & \\quad\n",
    "    x_1(0) = 0\n",
    "   \\\\\n",
    "   \\dot{x}_2\n",
    "    =\n",
    "     x_1,\n",
    "    & \\quad\n",
    "    x_2(0) = 1\n",
    "  \\end{array}\n",
    " \\right.\n",
    "\\end{equation*}\n",
    "\n",
    "Here we will fix $p = 0.1$ and solve for $x_f = x(1)$."
   ]
  },
  {
   "cell_type": "code",
   "execution_count": null,
   "metadata": {},
   "outputs": [],
   "source": [
    "x = SX.sym('x', 2) # x is of length 2\n",
    "p = SX.sym('p')\n",
    "z = 1 - x[1]**2\n",
    "f = vertcat(z*x[0] - x[1] + p, x[0])\n",
    "dae = {'x': x, 'p': p, 'ode': f}\n",
    "dae"
   ]
  },
  {
   "cell_type": "code",
   "execution_count": null,
   "metadata": {},
   "outputs": [],
   "source": [
    "F = integrator('F', 'cvodes', dae, {'t0': 0, 'tf': 1})\n",
    "F"
   ]
  },
  {
   "cell_type": "code",
   "execution_count": null,
   "metadata": {},
   "outputs": [],
   "source": [
    "r = F(x0=[0, 1], p = 0.1)"
   ]
  },
  {
   "cell_type": "code",
   "execution_count": null,
   "metadata": {},
   "outputs": [],
   "source": [
    "r"
   ]
  },
  {
   "cell_type": "markdown",
   "metadata": {},
   "source": [
    "Now to do the sensativity analysis"
   ]
  },
  {
   "cell_type": "code",
   "execution_count": null,
   "metadata": {},
   "outputs": [],
   "source": [
    "D = F.factory('D', ['x0', 'p'], ['jac:xf:x0'])\n",
    "D"
   ]
  },
  {
   "cell_type": "code",
   "execution_count": null,
   "metadata": {},
   "outputs": [],
   "source": [
    "r = D(x0=[0, 1], p = 0.1)\n",
    "r"
   ]
  },
  {
   "cell_type": "markdown",
   "metadata": {},
   "source": [
    "I'm not sure how to interpret such a result.  I have not investigated what their sensativity analysis is doing, returning, or how to interpret the results.  Perhaps this is something worth looking into further."
   ]
  },
  {
   "cell_type": "markdown",
   "metadata": {},
   "source": [
    "# 5.4 Direct Multiple Shooting Method\n",
    "\n",
    "I did not investigate further the direct multiple shooting method, but let's follow the steps below and do it.\n",
    "\n",
    "We take again the Van der Pol oscillator, but replace $p$ with a control variable $u(t)$ in order to minimize movement, velocity, and control.  This is now turned into an optimal control problem (OCP)."
   ]
  },
  {
   "cell_type": "markdown",
   "metadata": {},
   "source": [
    "\\begin{align*}\n",
    " \\min_{x(\\cdot), z(\\cdot), u(\\cdot)}\n",
    "  & \\quad\n",
    " \\int_0^T\n",
    " \\left(\n",
    "  x_1(t)^2\n",
    "  +\n",
    "  x_2(t)^2\n",
    "  +\n",
    "  u(t)^2\n",
    " \\right)\n",
    " dt\n",
    " \\\\\n",
    " \\text{subject to}\n",
    "  & \\quad\n",
    " \\left\\{\n",
    "  \\begin{array}{l}\n",
    "   \\dot{x}_1(t)\n",
    "    =\n",
    "     z(t) x_1(t)\n",
    "     -\n",
    "     x_2(t)\n",
    "     +\n",
    "     u(t)\n",
    "   \\\\\n",
    "   \\dot{x}_2(t)\n",
    "    =\n",
    "     x_1(t)\n",
    "   \\\\\n",
    "   0\n",
    "    =\n",
    "     x_2(t)^2 + z(t) - 1\n",
    "   \\\\\n",
    "   -1.0 \\leq u(t) \\leq 1.0,\n",
    "   \\quad\n",
    "   x_1(t) \\geq -0.25\n",
    "  \\end{array}\n",
    " \\right.\n",
    " \\\\\n",
    " & \\quad\n",
    "  \\text{for }\n",
    "  t \\in [0, T]\n",
    " \\\\\n",
    " & \\quad\n",
    " x_1(0) = 0,\n",
    " \\quad\n",
    " x_2(0) = 1\n",
    "\\end{align*}"
   ]
  },
  {
   "cell_type": "markdown",
   "metadata": {},
   "source": [
    "We want to convert this into a nonlinear program (NLP) format so that we can enter it into CasADi.\n",
    "\n",
    "\\begin{align*}\n",
    " \\min_{x, p}\n",
    "  & \\quad\n",
    "   f(x, p)\n",
    " \\\\\n",
    " \\text{subject to}\n",
    "  & \\quad\n",
    "   \\underline{x}\n",
    "   \\leq\n",
    "   x\n",
    "   \\leq\n",
    "   \\overline{x},\n",
    "   \\quad\n",
    "   p = \\underline{\\overline{p}},\n",
    "   \\quad\n",
    "   \\underline{g}\n",
    "   \\leq\n",
    "   g(x, p)\n",
    "   \\leq\n",
    "   \\overline{g}\n",
    "\\end{align*}\n",
    "\n",
    "Instead of continuous space, we discretize the space into $N$ time steps with piecewise constant control."
   ]
  },
  {
   "cell_type": "code",
   "execution_count": null,
   "metadata": {},
   "outputs": [],
   "source": [
    "x = SX.sym('x', 2)\n",
    "z = SX.sym('z')\n",
    "u = SX.sym('u')\n",
    "f = vertcat(z*x[0] - x[1] + u, x[0])\n",
    "g = x[1]**2 + z - 1\n",
    "h = x[0]**2 + x[1]**2 + u**2\n",
    "dae = {'x': x, 'p': u, 'ode': f, 'z': z, 'alg': g, 'quad': h}\n",
    "dae"
   ]
  },
  {
   "cell_type": "code",
   "execution_count": null,
   "metadata": {},
   "outputs": [],
   "source": [
    "T = 10 # end time\n",
    "N = 20 # how many time steps\n",
    "F = integrator('F', 'idas', dae, {'t0': 0, 'tf': T/N})\n",
    "F"
   ]
  },
  {
   "cell_type": "markdown",
   "metadata": {},
   "source": [
    "Now we construct a symbolic representation of the NLP.  For the formulation, we remove $p$, and set $G(x) = 0$.\n",
    "\n",
    "\\begin{align*}\n",
    " \\min_{w}\n",
    "  & \\quad\n",
    "   J(w)\n",
    " \\\\\n",
    " \\text{subject to}\n",
    "  & \\quad\n",
    "   G(w) = 0,\n",
    "   \\quad\n",
    "   \\underline{w}\n",
    "   \\leq\n",
    "   w\n",
    "   \\leq\n",
    "   \\overline{w}\n",
    "\\end{align*}"
   ]
  },
  {
   "cell_type": "code",
   "execution_count": null,
   "metadata": {},
   "outputs": [],
   "source": [
    "# Empty NLP\n",
    "w = []\n",
    "lbw = [] # lower bound for w\n",
    "ubw = [] # upper bound for w\n",
    "G = []\n",
    "J = 0"
   ]
  },
  {
   "cell_type": "code",
   "execution_count": null,
   "metadata": {},
   "outputs": [],
   "source": [
    "# Initial conditions\n",
    "Xk = MX.sym('X0', 2)\n",
    "w += [Xk]\n",
    "lbw += [0, 1]\n",
    "ubw += [0, 1]"
   ]
  },
  {
   "cell_type": "code",
   "execution_count": null,
   "metadata": {},
   "outputs": [],
   "source": [
    "for k in range(1, N+1):\n",
    "    # Local control\n",
    "    Uk = MX.sym('U{}'.format(k-1))\n",
    "    w += [Uk]\n",
    "    lbw += [-1]\n",
    "    ubw += [1]\n",
    "\n",
    "    # Call the integrator\n",
    "    Fk = F(x0=Xk, p=Uk)\n",
    "    J += Fk['qf']\n",
    "\n",
    "    # New local state\n",
    "    Xk = MX.sym('X{}'.format(k), 2)\n",
    "    w += [Xk]\n",
    "    lbw += [-.25, -inf]\n",
    "    ubw += [inf, inf]\n",
    "\n",
    "    # Continuity constraint\n",
    "    G += [Fk['xf'] - Xk]"
   ]
  },
  {
   "cell_type": "code",
   "execution_count": null,
   "metadata": {},
   "outputs": [],
   "source": [
    "list(zip(lbw, w, ubw))"
   ]
  },
  {
   "cell_type": "code",
   "execution_count": null,
   "metadata": {},
   "outputs": [],
   "source": [
    "G"
   ]
  },
  {
   "cell_type": "code",
   "execution_count": null,
   "metadata": {},
   "outputs": [],
   "source": [
    "# Create the NLP solver\n",
    "nlp = {'f': J, 'g': vertcat(*G), 'x': vertcat(*w)}\n",
    "S = nlpsol('S', 'ipopt', nlp)\n",
    "S"
   ]
  },
  {
   "cell_type": "code",
   "execution_count": null,
   "metadata": {},
   "outputs": [],
   "source": [
    "# Solve the NLP\n",
    "# Note: the x0, lbg, and ubg will be copied to be the same\n",
    "#       length as 'x' and 'G' respectively\n",
    "r = S(lbx=lbw, ubx=ubw, x0=0, lbg=0, ubg=0)"
   ]
  },
  {
   "cell_type": "code",
   "execution_count": null,
   "metadata": {},
   "outputs": [],
   "source": [
    "r"
   ]
  },
  {
   "cell_type": "code",
   "execution_count": null,
   "metadata": {},
   "outputs": [],
   "source": [
    "wsolved = r['x'].toarray()\n",
    "x1solved = wsolved[0::3]\n",
    "x2solved = wsolved[1::3]\n",
    "usolved = wsolved[2::3]"
   ]
  },
  {
   "cell_type": "code",
   "execution_count": null,
   "metadata": {},
   "outputs": [],
   "source": [
    "x1solved"
   ]
  },
  {
   "cell_type": "code",
   "execution_count": null,
   "metadata": {},
   "outputs": [],
   "source": [
    "x2solved"
   ]
  },
  {
   "cell_type": "code",
   "execution_count": null,
   "metadata": {},
   "outputs": [],
   "source": [
    "usolved"
   ]
  }
 ],
 "metadata": {
  "kernelspec": {
   "display_name": "Python 3",
   "language": "python",
   "name": "python3"
  },
  "language_info": {
   "codemirror_mode": {
    "name": "ipython",
    "version": 3
   },
   "file_extension": ".py",
   "mimetype": "text/x-python",
   "name": "python",
   "nbconvert_exporter": "python",
   "pygments_lexer": "ipython3",
   "version": "3.7.2"
  }
 },
 "nbformat": 4,
 "nbformat_minor": 2
}
