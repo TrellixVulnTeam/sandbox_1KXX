{
 "cells": [
  {
   "cell_type": "code",
   "execution_count": 1,
   "metadata": {},
   "outputs": [],
   "source": [
    "from elftools.elf.elffile import ELFFile\n",
    "from elftools.elf.sections import SymbolTableSection"
   ]
  },
  {
   "cell_type": "code",
   "execution_count": 2,
   "metadata": {},
   "outputs": [],
   "source": [
    "fname = './elffuncs.o'\n",
    "f = open(fname, 'rb')\n",
    "elffile = ELFFile(f)"
   ]
  },
  {
   "cell_type": "code",
   "execution_count": 3,
   "metadata": {},
   "outputs": [
    {
     "name": "stdout",
     "output_type": "stream",
     "text": [
      "<class 'elftools.elf.sections.NullSection'> \n",
      "<class 'elftools.elf.sections.Section'> .group\n",
      "<class 'elftools.elf.sections.Section'> .group\n",
      "<class 'elftools.elf.sections.Section'> .group\n",
      "<class 'elftools.elf.sections.Section'> .group\n",
      "<class 'elftools.elf.sections.Section'> .group\n",
      "<class 'elftools.elf.sections.Section'> .text\n",
      "<class 'elftools.elf.relocation.RelocationSection'> .rela.text\n",
      "<class 'elftools.elf.sections.Section'> .data\n",
      "<class 'elftools.elf.sections.Section'> .bss\n",
      "<class 'elftools.elf.sections.Section'> .rodata.str1.8\n",
      "<class 'elftools.elf.sections.Section'> .text._ZN3ElfD2Ev\n",
      "<class 'elftools.elf.relocation.RelocationSection'> .rela.text._ZN3ElfD2Ev\n",
      "<class 'elftools.elf.sections.Section'> .gcc_except_table._ZN3ElfD2Ev\n",
      "<class 'elftools.elf.sections.Section'> .rodata.str1.1\n",
      "<class 'elftools.elf.sections.Section'> .text.unlikely\n",
      "<class 'elftools.elf.relocation.RelocationSection'> .rela.text.unlikely\n",
      "<class 'elftools.elf.sections.Section'> .text.startup\n",
      "<class 'elftools.elf.relocation.RelocationSection'> .rela.text.startup\n",
      "<class 'elftools.elf.sections.Section'> .gcc_except_table\n",
      "<class 'elftools.elf.relocation.RelocationSection'> .rela.gcc_except_table\n",
      "<class 'elftools.elf.sections.Section'> .init_array\n",
      "<class 'elftools.elf.relocation.RelocationSection'> .rela.init_array\n",
      "<class 'elftools.elf.sections.Section'> .debug_info\n",
      "<class 'elftools.elf.relocation.RelocationSection'> .rela.debug_info\n",
      "<class 'elftools.elf.sections.Section'> .debug_abbrev\n",
      "<class 'elftools.elf.sections.Section'> .debug_loc\n",
      "<class 'elftools.elf.relocation.RelocationSection'> .rela.debug_loc\n",
      "<class 'elftools.elf.sections.Section'> .debug_aranges\n",
      "<class 'elftools.elf.relocation.RelocationSection'> .rela.debug_aranges\n",
      "<class 'elftools.elf.sections.Section'> .debug_ranges\n",
      "<class 'elftools.elf.relocation.RelocationSection'> .rela.debug_ranges\n",
      "<class 'elftools.elf.sections.Section'> .debug_line\n",
      "<class 'elftools.elf.relocation.RelocationSection'> .rela.debug_line\n",
      "<class 'elftools.elf.sections.Section'> .debug_str\n",
      "<class 'elftools.elf.sections.Section'> .data.rel.local.DW.ref._ZTISt13runtime_error\n",
      "<class 'elftools.elf.relocation.RelocationSection'> .rela.data.rel.local.DW.ref._ZTISt13runtime_error\n",
      "<class 'elftools.elf.sections.Section'> .data.rel.local.DW.ref._ZTISt16invalid_argument\n",
      "<class 'elftools.elf.relocation.RelocationSection'> .rela.data.rel.local.DW.ref._ZTISt16invalid_argument\n",
      "<class 'elftools.elf.sections.Section'> .data.rel.local.DW.ref._ZTISt9exception\n",
      "<class 'elftools.elf.relocation.RelocationSection'> .rela.data.rel.local.DW.ref._ZTISt9exception\n",
      "<class 'elftools.elf.sections.Section'> .data.rel.local.DW.ref.__gxx_personality_v0\n",
      "<class 'elftools.elf.relocation.RelocationSection'> .rela.data.rel.local.DW.ref.__gxx_personality_v0\n",
      "<class 'elftools.elf.sections.Section'> .comment\n",
      "<class 'elftools.elf.sections.Section'> .note.GNU-stack\n",
      "<class 'elftools.elf.sections.Section'> .eh_frame\n",
      "<class 'elftools.elf.relocation.RelocationSection'> .rela.eh_frame\n",
      "<class 'elftools.elf.sections.SymbolTableSection'> .symtab\n",
      "<class 'elftools.elf.sections.StringTableSection'> .strtab\n",
      "<class 'elftools.elf.sections.StringTableSection'> .shstrtab\n"
     ]
    }
   ],
   "source": [
    "for sec in elffile.iter_sections():\n",
    "    print(type(sec), sec.name)"
   ]
  },
  {
   "cell_type": "code",
   "execution_count": 4,
   "metadata": {},
   "outputs": [],
   "source": [
    "symtab = elffile.get_section_by_name('.symtab')\n",
    "if symtab is None:\n",
    "    print('Warning: The symbol table does not exist')"
   ]
  },
  {
   "cell_type": "code",
   "execution_count": 5,
   "metadata": {},
   "outputs": [],
   "source": [
    "def is_nm_symbol(sym):\n",
    "    return sym.name != '' and sym['st_info']['type'] != 'STT_FILE'\n",
    "\n",
    "def nm_symbols(symtab):\n",
    "    return [sym for sym in symtab.iter_symbols()\n",
    "            if is_nm_symbol(sym)]\n",
    "\n",
    "def is_nm_extern(sym):\n",
    "    return sym['st_info']['bind'] != 'STB_LOCAL'\n",
    "\n",
    "def is_nm_weak(sym):\n",
    "    return sym['st_info']['bind'] == 'STB_WEAK'\n",
    "\n",
    "def is_nm_strong(sym):\n",
    "    return sym['st_info']['bind'] == 'STB_GLOBAL'\n",
    "\n",
    "def is_nm_defined(sym):\n",
    "    return sym['st_shndx'] != 'SHN_UNDEF'\n",
    "\n",
    "def is_nm_func(sym):\n",
    "    return sym['st_info']['type'] == 'STT_FUNC'"
   ]
  },
  {
   "cell_type": "code",
   "execution_count": 6,
   "metadata": {},
   "outputs": [
    {
     "data": {
      "text/plain": [
       "'SHT_SYMTAB'"
      ]
     },
     "execution_count": 6,
     "metadata": {},
     "output_type": "execute_result"
    }
   ],
   "source": [
    "symtab['sh_type']"
   ]
  },
  {
   "cell_type": "code",
   "execution_count": 7,
   "metadata": {},
   "outputs": [
    {
     "data": {
      "text/plain": [
       "110"
      ]
     },
     "execution_count": 7,
     "metadata": {},
     "output_type": "execute_result"
    }
   ],
   "source": [
    "symtab.num_symbols()"
   ]
  },
  {
   "cell_type": "code",
   "execution_count": 8,
   "metadata": {},
   "outputs": [
    {
     "data": {
      "text/plain": [
       "78"
      ]
     },
     "execution_count": 8,
     "metadata": {},
     "output_type": "execute_result"
    }
   ],
   "source": [
    "syms = nm_symbols(symtab)\n",
    "len(syms)"
   ]
  },
  {
   "cell_type": "code",
   "execution_count": 9,
   "metadata": {},
   "outputs": [
    {
     "name": "stdout",
     "output_type": "stream",
     "text": [
      "['_ZN3Elf10printfuncsEv', 'main']\n",
      "{'name': '_ZN3Elf10printfuncsEv',\n",
      " 'st_info': {'bind': 'STB_GLOBAL', 'type': 'STT_FUNC'},\n",
      " 'st_name': 444,\n",
      " 'st_other': {'visibility': 'STV_DEFAULT'},\n",
      " 'st_shndx': 6,\n",
      " 'st_size': 1,\n",
      " 'st_value': 224}\n",
      "{'name': '_ZN3ElfD2Ev',\n",
      " 'st_info': {'bind': 'STB_WEAK', 'type': 'STT_FUNC'},\n",
      " 'st_name': 466,\n",
      " 'st_other': {'visibility': 'STV_DEFAULT'},\n",
      " 'st_shndx': 11,\n",
      " 'st_size': 50,\n",
      " 'st_value': 0}\n",
      "{'name': '_ZN3ElfD1Ev',\n",
      " 'st_info': {'bind': 'STB_WEAK', 'type': 'STT_FUNC'},\n",
      " 'st_name': 520,\n",
      " 'st_other': {'visibility': 'STV_DEFAULT'},\n",
      " 'st_shndx': 11,\n",
      " 'st_size': 50,\n",
      " 'st_value': 0}\n",
      "{'name': 'main',\n",
      " 'st_info': {'bind': 'STB_GLOBAL', 'type': 'STT_FUNC'},\n",
      " 'st_name': 532,\n",
      " 'st_other': {'visibility': 'STV_DEFAULT'},\n",
      " 'st_shndx': 17,\n",
      " 'st_size': 1870,\n",
      " 'st_value': 0}\n"
     ]
    }
   ],
   "source": [
    "from pprint import pprint\n",
    "pprint([sym.name for sym in syms\n",
    "                 if is_nm_extern(sym) and\n",
    "                    is_nm_defined(sym) and\n",
    "                    is_nm_func(sym) and\n",
    "                    is_nm_strong(sym)])\n",
    "for sym in syms:\n",
    "    if is_nm_extern(sym) and is_nm_defined(sym) and is_nm_func(sym):\n",
    "        d = dict(sym.entry)\n",
    "        d['st_info'] = dict(d['st_info'])\n",
    "        d['st_other'] = dict(d['st_other'])\n",
    "        d['name'] = sym.name\n",
    "        pprint(d)"
   ]
  },
  {
   "cell_type": "code",
   "execution_count": 10,
   "metadata": {},
   "outputs": [
    {
     "data": {
      "text/plain": [
       "40"
      ]
     },
     "execution_count": 10,
     "metadata": {},
     "output_type": "execute_result"
    }
   ],
   "source": [
    "#for sym in syms:\n",
    "#    print(sym.entry, sym.name)\n",
    "#len([sym.name for sym in syms if sym['st_info']['bind'] != 'STB_LOCAL'])\n",
    "len([sym.name for sym in syms if sym['st_shndx'] != 'SHN_UNDEF'])"
   ]
  },
  {
   "cell_type": "code",
   "execution_count": null,
   "metadata": {},
   "outputs": [],
   "source": []
  }
 ],
 "metadata": {
  "kernelspec": {
   "display_name": "Python 3",
   "language": "python",
   "name": "python3"
  },
  "language_info": {
   "codemirror_mode": {
    "name": "ipython",
    "version": 3
   },
   "file_extension": ".py",
   "mimetype": "text/x-python",
   "name": "python",
   "nbconvert_exporter": "python",
   "pygments_lexer": "ipython3",
   "version": "3.7.1"
  }
 },
 "nbformat": 4,
 "nbformat_minor": 2
}
