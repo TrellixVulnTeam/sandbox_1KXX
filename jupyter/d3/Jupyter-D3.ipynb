{
 "cells": [
  {
   "cell_type": "markdown",
   "metadata": {},
   "source": [
    "# D3 integration in Jupyter notebook"
   ]
  },
  {
   "cell_type": "markdown",
   "metadata": {},
   "source": [
    "### Goal: \n",
    "\n",
    "The main goal is to integrate D3 in jupyter notebook and achieve two way communication between front end javascript and backend python notebook. This will allow us to get the data from user interaction.\n"
   ]
  },
  {
   "cell_type": "markdown",
   "metadata": {
    "collapsed": true
   },
   "source": [
    "### Libraries:\n",
    "\n",
    "The main component we will be using is ipywidgets. You can learn more about this at http://ipywidgets.readthedocs.io/en/latest/.\n",
    "Using widgets we can build interactive visualizations in notebooks.\n",
    " \n",
    "Apart from ipywidgets, othe libraries we will be using are pandas for data manupulation, Ipython.display to display the widget."
   ]
  },
  {
   "cell_type": "code",
   "execution_count": 1,
   "metadata": {},
   "outputs": [],
   "source": [
    "import ipywidgets as widgets\n",
    "from IPython.display import display, clear_output\n",
    "from traitlets import Unicode, validate, List\n",
    "import pandas as pd"
   ]
  },
  {
   "cell_type": "markdown",
   "metadata": {},
   "source": [
    "We will be following the example on building a custom widget from http://ipywidgets.readthedocs.io/en/latest/examples/Widget%20Custom.html"
   ]
  },
  {
   "cell_type": "markdown",
   "metadata": {},
   "source": [
    "#### Import d3 using require"
   ]
  },
  {
   "cell_type": "code",
   "execution_count": 2,
   "metadata": {},
   "outputs": [
    {
     "data": {
      "application/javascript": [
       "require.config({\n",
       "    paths: {\n",
       "        d3: 'https://d3js.org/d3.v4.min'\n",
       "    }\n",
       "});\n"
      ],
      "text/plain": [
       "<IPython.core.display.Javascript object>"
      ]
     },
     "metadata": {},
     "output_type": "display_data"
    }
   ],
   "source": [
    "%%javascript\n",
    "require.config({\n",
    "    paths: {\n",
    "        d3: 'https://d3js.org/d3.v4.min'\n",
    "    }\n",
    "});"
   ]
  },
  {
   "cell_type": "markdown",
   "metadata": {},
   "source": [
    "## Example 1: Bar Chart - Selection\n",
    "We will be using the soccer player data set for all of our examples.\n",
    "\n",
    "The data contains top 50 players and attributes like `overall_score`, `crossing`, `finishing` etc. over the years 2007-16. We will mostly use the overall_score attribute.\n",
    "\n",
    "In the first chart, we will show top 5 players with maximum overall score averaged over the years as a bar chart. If user clicks on any one bar chart, then we will show the progress of the player over the years."
   ]
  },
  {
   "cell_type": "code",
   "execution_count": 3,
   "metadata": {},
   "outputs": [
    {
     "data": {
      "text/html": [
       "<div>\n",
       "<style scoped>\n",
       "    .dataframe tbody tr th:only-of-type {\n",
       "        vertical-align: middle;\n",
       "    }\n",
       "\n",
       "    .dataframe tbody tr th {\n",
       "        vertical-align: top;\n",
       "    }\n",
       "\n",
       "    .dataframe thead th {\n",
       "        text-align: right;\n",
       "    }\n",
       "</style>\n",
       "<table border=\"1\" class=\"dataframe\">\n",
       "  <thead>\n",
       "    <tr style=\"text-align: right;\">\n",
       "      <th></th>\n",
       "      <th>player_name</th>\n",
       "      <th>average_score</th>\n",
       "    </tr>\n",
       "  </thead>\n",
       "  <tbody>\n",
       "    <tr>\n",
       "      <th>0</th>\n",
       "      <td>Alexis Sanchez</td>\n",
       "      <td>80.962500</td>\n",
       "    </tr>\n",
       "    <tr>\n",
       "      <th>1</th>\n",
       "      <td>Andres Iniesta</td>\n",
       "      <td>87.638889</td>\n",
       "    </tr>\n",
       "    <tr>\n",
       "      <th>2</th>\n",
       "      <td>Angel Di Maria</td>\n",
       "      <td>81.950000</td>\n",
       "    </tr>\n",
       "    <tr>\n",
       "      <th>3</th>\n",
       "      <td>Arjen Robben</td>\n",
       "      <td>87.520000</td>\n",
       "    </tr>\n",
       "    <tr>\n",
       "      <th>4</th>\n",
       "      <td>Bastian Schweinsteiger</td>\n",
       "      <td>84.633333</td>\n",
       "    </tr>\n",
       "  </tbody>\n",
       "</table>\n",
       "</div>"
      ],
      "text/plain": [
       "              player_name  average_score\n",
       "0          Alexis Sanchez      80.962500\n",
       "1          Andres Iniesta      87.638889\n",
       "2          Angel Di Maria      81.950000\n",
       "3            Arjen Robben      87.520000\n",
       "4  Bastian Schweinsteiger      84.633333"
      ]
     },
     "execution_count": 3,
     "metadata": {},
     "output_type": "execute_result"
    }
   ],
   "source": [
    "players_data = pd.read_csv(open(\"player_data.csv\"))\n",
    "data_average = players_data.groupby('player_name')['overall_rating'].mean().reset_index(name='average_score')\n",
    "data_average_top5 = data_average.head(5)\n",
    "data_average_top5"
   ]
  },
  {
   "cell_type": "markdown",
   "metadata": {},
   "source": [
    "First, create a back-end python class for our widget. \n",
    "In the following class, `value` variable is used for storing the data we derived in the above cell. We can access this variable data in front-end javascript.\n",
    "`player_name` variable is used for storing the player name that is selected by the user in front-end. User selects the player by clicking on the bar belonging to the player."
   ]
  },
  {
   "cell_type": "code",
   "execution_count": 4,
   "metadata": {},
   "outputs": [],
   "source": [
    "class BarWidget(widgets.DOMWidget):\n",
    "    _view_name = Unicode('BarView').tag(sync=True)\n",
    "    _view_module = Unicode('barChart').tag(sync=True)\n",
    "    _view_module_version = Unicode('0.1.0').tag(sync=True)\n",
    "    value = List([]).tag(sync=True)\n",
    "    player_name = Unicode('').tag(sync=True)"
   ]
  },
  {
   "cell_type": "markdown",
   "metadata": {
    "collapsed": true
   },
   "source": [
    "Next, we will create the front-end view. To accomplish this, the widget framework uses Backbone.js. Any single WidgetView is bound to a single cell. Multiple WidgetViews can be linked to a single WidgetModel. The view name should be same as that of back-end class. This helps the widget framework to link the view with corresponding model.\n",
    "\n",
    "We can access the above created model with `this.model` in javascript. To get the variable value, use `this.model.get('value')`\n",
    "\n",
    "The render method is where our javascript code lies. We will use this section to render our d3 chart."
   ]
  },
  {
   "cell_type": "code",
   "execution_count": 5,
   "metadata": {},
   "outputs": [
    {
     "data": {
      "application/javascript": [
       "require.undef('barChart');\n",
       "\n",
       "define('barChart', [\"@jupyter-widgets/base\", \"d3\"], function(widgets, d3) {\n",
       "\n",
       "    var BarView = widgets.DOMWidgetView.extend({\n",
       "\n",
       "        render: function() {\n",
       "            this.value_changed();\n",
       "            // set change event handler for variable 'value' of bar widget\n",
       "            this.model.on('change:value', this.value_changed, this);\n",
       "        },\n",
       "         value_changed: function() {\n",
       "            // get the data from back-end model \n",
       "            var data = this.model.get('value');\n",
       "            var self = this;\n",
       "            var margin = {top: 20, right: 20, bottom: 30, left: 40},\n",
       "            width = 400 - margin.left - margin.right,\n",
       "            height = 300 - margin.top - margin.bottom;\n",
       "\n",
       "            // set the ranges\n",
       "            var x = d3.scaleBand()\n",
       "                      .range([0, width])\n",
       "                      .padding(0.1);\n",
       "            var y = d3.scaleLinear()\n",
       "                      .range([height, 0]);\n",
       "            $(\"#barChart\").remove();\n",
       "            this.$el.append(\"<div id='barChart'></div>\");\n",
       "            $(\"#barChart\").width(\"400px\");\n",
       "            $(\"#barChart\").height(\"300px\");\n",
       "            var svg = d3.select(\"#barChart\").append(\"svg\")\n",
       "                        .attr(\"width\", width + margin.left + margin.right)\n",
       "                        .attr(\"height\", height + margin.top + margin.bottom)\n",
       "                        .append(\"g\")\n",
       "                        .attr(\"transform\", \n",
       "                              \"translate(\" + margin.left + \",\" + margin.top + \")\");\n",
       "            \n",
       "            x.domain(data.map(function(d) { return d.player_name; }));\n",
       "            y.domain([0, d3.max(data, function(d) { return d.average_score; })]);\n",
       "            // append the rectangles for the bar chart\n",
       "            svg.selectAll(\".bar\")\n",
       "                .data(data)\n",
       "                .enter().append(\"rect\")\n",
       "                .attr(\"class\", \"bar\")\n",
       "                .attr(\"x\", function(d) { return x(d.player_name); })\n",
       "                .attr(\"width\", x.bandwidth())\n",
       "                .attr(\"y\", function(d) { return y(d.average_score); })\n",
       "                .attr(\"height\", function(d) { return height - y(d.average_score); })\n",
       "                .style(\"fill\",\"steelblue\")\n",
       "                .on(\"click\", function(d){\n",
       "                    d3.selectAll('.bar').style(\"fill\",\"steelblue\");\n",
       "                    d3.select(this).style(\"fill\",\"green\");\n",
       "                    self.model.set('player_name', d.player_name);\n",
       "                    self.model.save_changes();\n",
       "                    self.touch();\n",
       "                });\n",
       "\n",
       "            // add the x Axis\n",
       "            svg.append(\"g\")\n",
       "            .attr(\"transform\", \"translate(0,\" + height + \")\")\n",
       "            .call(d3.axisBottom(x));\n",
       "\n",
       "            // add the y Axis\n",
       "            svg.append(\"g\")\n",
       "            .call(d3.axisLeft(y));\n",
       "            \n",
       "        },\n",
       "    });\n",
       "\n",
       "    return {\n",
       "        BarView : BarView\n",
       "    };\n",
       "});\n"
      ],
      "text/plain": [
       "<IPython.core.display.Javascript object>"
      ]
     },
     "metadata": {},
     "output_type": "display_data"
    }
   ],
   "source": [
    "%%javascript\n",
    "require.undef('barChart');\n",
    "\n",
    "define('barChart', [\"@jupyter-widgets/base\", \"d3\"], function(widgets, d3) {\n",
    "\n",
    "    var BarView = widgets.DOMWidgetView.extend({\n",
    "\n",
    "        render: function() {\n",
    "            this.value_changed();\n",
    "            // set change event handler for variable 'value' of bar widget\n",
    "            this.model.on('change:value', this.value_changed, this);\n",
    "        },\n",
    "         value_changed: function() {\n",
    "            // get the data from back-end model \n",
    "            var data = this.model.get('value');\n",
    "            var self = this;\n",
    "            var margin = {top: 20, right: 20, bottom: 30, left: 40},\n",
    "            width = 400 - margin.left - margin.right,\n",
    "            height = 300 - margin.top - margin.bottom;\n",
    "\n",
    "            // set the ranges\n",
    "            var x = d3.scaleBand()\n",
    "                      .range([0, width])\n",
    "                      .padding(0.1);\n",
    "            var y = d3.scaleLinear()\n",
    "                      .range([height, 0]);\n",
    "            $(\"#barChart\").remove();\n",
    "            this.$el.append(\"<div id='barChart'></div>\");\n",
    "            $(\"#barChart\").width(\"400px\");\n",
    "            $(\"#barChart\").height(\"300px\");\n",
    "            var svg = d3.select(\"#barChart\").append(\"svg\")\n",
    "                        .attr(\"width\", width + margin.left + margin.right)\n",
    "                        .attr(\"height\", height + margin.top + margin.bottom)\n",
    "                        .append(\"g\")\n",
    "                        .attr(\"transform\", \n",
    "                              \"translate(\" + margin.left + \",\" + margin.top + \")\");\n",
    "            \n",
    "            x.domain(data.map(function(d) { return d.player_name; }));\n",
    "            y.domain([0, d3.max(data, function(d) { return d.average_score; })]);\n",
    "            // append the rectangles for the bar chart\n",
    "            svg.selectAll(\".bar\")\n",
    "                .data(data)\n",
    "                .enter().append(\"rect\")\n",
    "                .attr(\"class\", \"bar\")\n",
    "                .attr(\"x\", function(d) { return x(d.player_name); })\n",
    "                .attr(\"width\", x.bandwidth())\n",
    "                .attr(\"y\", function(d) { return y(d.average_score); })\n",
    "                .attr(\"height\", function(d) { return height - y(d.average_score); })\n",
    "                .style(\"fill\",\"steelblue\")\n",
    "                .on(\"click\", function(d){\n",
    "                    d3.selectAll('.bar').style(\"fill\",\"steelblue\");\n",
    "                    d3.select(this).style(\"fill\",\"green\");\n",
    "                    self.model.set('player_name', d.player_name);\n",
    "                    self.model.save_changes();\n",
    "                    self.touch();\n",
    "                });\n",
    "\n",
    "            // add the x Axis\n",
    "            svg.append(\"g\")\n",
    "            .attr(\"transform\", \"translate(0,\" + height + \")\")\n",
    "            .call(d3.axisBottom(x));\n",
    "\n",
    "            // add the y Axis\n",
    "            svg.append(\"g\")\n",
    "            .call(d3.axisLeft(y));\n",
    "            \n",
    "        },\n",
    "    });\n",
    "\n",
    "    return {\n",
    "        BarView : BarView\n",
    "    };\n",
    "});"
   ]
  },
  {
   "cell_type": "markdown",
   "metadata": {},
   "source": [
    "Lets create the widget for Line chart to show the progress of a player whose bar is selected.\n",
    "\n",
    "For this again, we need to create the back-end python model. Here `value` variable contains the data of a particular player (selected from bar chart) over the years. `selected_year` variable will be used in the `range` selection below (Example 3)."
   ]
  },
  {
   "cell_type": "code",
   "execution_count": 6,
   "metadata": {},
   "outputs": [],
   "source": [
    "class LineWidget(widgets.DOMWidget):\n",
    "    _view_name = Unicode('LineView').tag(sync=True)\n",
    "    _view_module = Unicode('lineChart').tag(sync=True)\n",
    "    _view_module_version = Unicode('0.1.0').tag(sync=True)\n",
    "    value = List([]).tag(sync=True)\n",
    "    selected_years = List([]).tag(sync=True)"
   ]
  },
  {
   "cell_type": "markdown",
   "metadata": {},
   "source": [
    "Now, the front-end view for the line chart"
   ]
  },
  {
   "cell_type": "code",
   "execution_count": 7,
   "metadata": {},
   "outputs": [
    {
     "data": {
      "application/javascript": [
       "require.undef('lineChart');\n",
       "define('lineChart', [\"@jupyter-widgets/base\", \"d3\"], function(widgets, d3) {\n",
       "\n",
       "    var LineView = widgets.DOMWidgetView.extend({\n",
       "\n",
       "        render: function() {\n",
       "            this.value_changed();\n",
       "            // set change event handler for variable 'value' of line widget\n",
       "            this.listenTo(this.model, 'change:value', this.value_changed, this);\n",
       "        },\n",
       "\n",
       "        value_changed: function() {\n",
       "            // get data from back-end variable 'value'\n",
       "            var player = this.model.get('value');\n",
       "            var that = this;\n",
       "            // get data from back-end variable 'count'\n",
       "            var test = this.model.get('count');\n",
       "            var yearValues = [];\n",
       "            var attribValues = [];\n",
       "            var playerYearDataList = [];\n",
       "            player.sort(function(x, y){\n",
       "                return d3.ascending(x[2], y[2]);\n",
       "            })\n",
       "            player.forEach(function(d){\n",
       "                yearValues.push(d[\"year\"]);\n",
       "                attribValues.push(d[\"overall_rating\"]);\n",
       "            })\n",
       "            var margin = {top: 10, right: 30, bottom: 30, left: 50};\n",
       "            var svgHeight = 400;\n",
       "            var svgWidth = 1000;\n",
       "          //create canvas\n",
       "          $(\"#chart1\").remove();\n",
       "          this.$el.append(\"<div id='chart1'></div>\");\n",
       "          $(\"#chart1\").width(\"960px\");\n",
       "          $(\"#chart1\").height(\"400px\");        \n",
       "          var margin = {top: 20, right: 20, bottom: 30, left: 40};\n",
       "          var width = 880 - margin.left - margin.right;\n",
       "          var height = 500 - margin.top - margin.bottom;\n",
       "          var svg = d3.select(\"#chart1\").append(\"svg\")\n",
       "            .style(\"position\", \"relative\")\n",
       "            .style(\"max-width\", \"960px\")\n",
       "            .attr(\"width\", width + \"px\")\n",
       "            .attr(\"height\", (height + 50) + \"px\");\n",
       "          svg.append('g')\n",
       "             .attr(\"id\", \"xAxis\");\n",
       "          svg.append('g')\n",
       "             .attr(\"id\", \"yAxis\");\n",
       "          let yScale = d3.scaleLinear()\n",
       "                    .domain([d3.min(attribValues, d => d), d3.max(attribValues, d => d)])\n",
       "                    .range([svgHeight - margin.top - margin.bottom, 0]);\n",
       "\n",
       "            let yAxis = d3.axisLeft();\n",
       "            // assign the scale to the axis\n",
       "            yAxis.scale(yScale);\n",
       "            var yAxisG = d3.select(\"#yAxis\")\n",
       "                .attr(\"transform\", \"translate(\"+margin.left+\",\" + margin.top +\")\");\n",
       "        \n",
       "            yAxisG.transition(3000).call(yAxis);\n",
       "            let xScale = d3.scaleLinear()\n",
       "                .domain([d3.min(yearValues), d3.max(yearValues)])\n",
       "                .range([0, 600]);\n",
       "\n",
       "            let xAxis = d3.axisBottom();\n",
       "            // assign the scale to the axis\n",
       "            xAxis.scale(xScale);\n",
       "            var xAxisG = d3.select(\"#xAxis\")\n",
       "                .attr(\"transform\", \"translate(\"+(margin.left+ 10)+\",\" + (svgHeight - margin.bottom) +\")\");\n",
       "\n",
       "            xAxisG.transition(3000).call(xAxis);\n",
       "            svg.selectAll(\".playerPath\").remove();\n",
       "            svg.selectAll(\".playerNode\").remove();\n",
       "\n",
       "            var lineCoords = []\n",
       "            for(var k=0; k<yearValues.length; k++){\n",
       "                lineCoords.push([xScale(yearValues[k]), yScale(attribValues[k])]);\n",
       "            }\n",
       "            var lineGenerator = d3.line();\n",
       "            var pathString = lineGenerator(lineCoords);\n",
       "            svg.append('path')\n",
       "                .attr('d', pathString)\n",
       "                .attr(\"transform\", \"translate(\"+(margin.left+ 10)+\",\" + (margin.top) +\")\")\n",
       "                .attr(\"style\", \"fill : none;\")\n",
       "                .attr(\"class\", \"playerPath\")\n",
       "                .style(\"stroke\", \"steelblue\")\n",
       "                .style(\"stroke-width\", 3)\n",
       "                .style('opacity', 0.5);\n",
       "            \n",
       "            lineCoords.forEach(function(point){\n",
       "                svg.append('circle').attr('cx', point[0])\n",
       "                    .attr(\"cy\", point[1])\n",
       "                    .attr(\"r\", 5)\n",
       "                    .attr(\"transform\", \"translate(\"+(margin.left+ 10)+\",\" + (margin.top) +\")\")\n",
       "                    .attr(\"class\", \"playerNode\");\n",
       "            });\n",
       "            d3.selectAll(\".brush\").remove();\n",
       "            var brush = d3.brushX().extent([[margin.left,svgHeight-margin.bottom-20],[svgWidth,svgHeight-10]]).on(\"end\", brushed);\n",
       "            svg.append(\"g\").attr(\"class\", \"brush\").call(brush);\n",
       "            function brushed() {\n",
       "\n",
       "                var sel = d3.event.selection;\n",
       "\n",
       "                if(sel === null){\n",
       "                    return;\n",
       "                }\n",
       "\n",
       "            var yearValuesBrushed = yearValues.filter((d) => xScale(d)+margin.left+ 10 >= sel[\"0\"] &&  xScale(d)+margin.left+ 10  <= sel[\"1\"]);\n",
       "            // set data to back-end variable 'selected_years'\n",
       "            that.model.set('selected_years', yearValuesBrushed);\n",
       "            that.model.save_changes();\n",
       "            that.touch();\n",
       "        }\n",
       "        },\n",
       "    });\n",
       "\n",
       "    return {\n",
       "        LineView : LineView\n",
       "    };\n",
       "});\n"
      ],
      "text/plain": [
       "<IPython.core.display.Javascript object>"
      ]
     },
     "metadata": {},
     "output_type": "display_data"
    }
   ],
   "source": [
    "%%javascript\n",
    "require.undef('lineChart');\n",
    "define('lineChart', [\"@jupyter-widgets/base\", \"d3\"], function(widgets, d3) {\n",
    "\n",
    "    var LineView = widgets.DOMWidgetView.extend({\n",
    "\n",
    "        render: function() {\n",
    "            this.value_changed();\n",
    "            // set change event handler for variable 'value' of line widget\n",
    "            this.listenTo(this.model, 'change:value', this.value_changed, this);\n",
    "        },\n",
    "\n",
    "        value_changed: function() {\n",
    "            // get data from back-end variable 'value'\n",
    "            var player = this.model.get('value');\n",
    "            var that = this;\n",
    "            // get data from back-end variable 'count'\n",
    "            var test = this.model.get('count');\n",
    "            var yearValues = [];\n",
    "            var attribValues = [];\n",
    "            var playerYearDataList = [];\n",
    "            player.sort(function(x, y){\n",
    "                return d3.ascending(x[2], y[2]);\n",
    "            })\n",
    "            player.forEach(function(d){\n",
    "                yearValues.push(d[\"year\"]);\n",
    "                attribValues.push(d[\"overall_rating\"]);\n",
    "            })\n",
    "            var margin = {top: 10, right: 30, bottom: 30, left: 50};\n",
    "            var svgHeight = 400;\n",
    "            var svgWidth = 1000;\n",
    "          //create canvas\n",
    "          $(\"#chart1\").remove();\n",
    "          this.$el.append(\"<div id='chart1'></div>\");\n",
    "          $(\"#chart1\").width(\"960px\");\n",
    "          $(\"#chart1\").height(\"400px\");        \n",
    "          var margin = {top: 20, right: 20, bottom: 30, left: 40};\n",
    "          var width = 880 - margin.left - margin.right;\n",
    "          var height = 500 - margin.top - margin.bottom;\n",
    "          var svg = d3.select(\"#chart1\").append(\"svg\")\n",
    "            .style(\"position\", \"relative\")\n",
    "            .style(\"max-width\", \"960px\")\n",
    "            .attr(\"width\", width + \"px\")\n",
    "            .attr(\"height\", (height + 50) + \"px\");\n",
    "          svg.append('g')\n",
    "             .attr(\"id\", \"xAxis\");\n",
    "          svg.append('g')\n",
    "             .attr(\"id\", \"yAxis\");\n",
    "          let yScale = d3.scaleLinear()\n",
    "                    .domain([d3.min(attribValues, d => d), d3.max(attribValues, d => d)])\n",
    "                    .range([svgHeight - margin.top - margin.bottom, 0]);\n",
    "\n",
    "            let yAxis = d3.axisLeft();\n",
    "            // assign the scale to the axis\n",
    "            yAxis.scale(yScale);\n",
    "            var yAxisG = d3.select(\"#yAxis\")\n",
    "                .attr(\"transform\", \"translate(\"+margin.left+\",\" + margin.top +\")\");\n",
    "        \n",
    "            yAxisG.transition(3000).call(yAxis);\n",
    "            let xScale = d3.scaleLinear()\n",
    "                .domain([d3.min(yearValues), d3.max(yearValues)])\n",
    "                .range([0, 600]);\n",
    "\n",
    "            let xAxis = d3.axisBottom();\n",
    "            // assign the scale to the axis\n",
    "            xAxis.scale(xScale);\n",
    "            var xAxisG = d3.select(\"#xAxis\")\n",
    "                .attr(\"transform\", \"translate(\"+(margin.left+ 10)+\",\" + (svgHeight - margin.bottom) +\")\");\n",
    "\n",
    "            xAxisG.transition(3000).call(xAxis);\n",
    "            svg.selectAll(\".playerPath\").remove();\n",
    "            svg.selectAll(\".playerNode\").remove();\n",
    "\n",
    "            var lineCoords = []\n",
    "            for(var k=0; k<yearValues.length; k++){\n",
    "                lineCoords.push([xScale(yearValues[k]), yScale(attribValues[k])]);\n",
    "            }\n",
    "            var lineGenerator = d3.line();\n",
    "            var pathString = lineGenerator(lineCoords);\n",
    "            svg.append('path')\n",
    "                .attr('d', pathString)\n",
    "                .attr(\"transform\", \"translate(\"+(margin.left+ 10)+\",\" + (margin.top) +\")\")\n",
    "                .attr(\"style\", \"fill : none;\")\n",
    "                .attr(\"class\", \"playerPath\")\n",
    "                .style(\"stroke\", \"steelblue\")\n",
    "                .style(\"stroke-width\", 3)\n",
    "                .style('opacity', 0.5);\n",
    "            \n",
    "            lineCoords.forEach(function(point){\n",
    "                svg.append('circle').attr('cx', point[0])\n",
    "                    .attr(\"cy\", point[1])\n",
    "                    .attr(\"r\", 5)\n",
    "                    .attr(\"transform\", \"translate(\"+(margin.left+ 10)+\",\" + (margin.top) +\")\")\n",
    "                    .attr(\"class\", \"playerNode\");\n",
    "            });\n",
    "            d3.selectAll(\".brush\").remove();\n",
    "            var brush = d3.brushX().extent([[margin.left,svgHeight-margin.bottom-20],[svgWidth,svgHeight-10]]).on(\"end\", brushed);\n",
    "            svg.append(\"g\").attr(\"class\", \"brush\").call(brush);\n",
    "            function brushed() {\n",
    "\n",
    "                var sel = d3.event.selection;\n",
    "\n",
    "                if(sel === null){\n",
    "                    return;\n",
    "                }\n",
    "\n",
    "            var yearValuesBrushed = yearValues.filter((d) => xScale(d)+margin.left+ 10 >= sel[\"0\"] &&  xScale(d)+margin.left+ 10  <= sel[\"1\"]);\n",
    "            // set data to back-end variable 'selected_years'\n",
    "            that.model.set('selected_years', yearValuesBrushed);\n",
    "            that.model.save_changes();\n",
    "            that.touch();\n",
    "        }\n",
    "        },\n",
    "    });\n",
    "\n",
    "    return {\n",
    "        LineView : LineView\n",
    "    };\n",
    "});"
   ]
  },
  {
   "cell_type": "markdown",
   "metadata": {},
   "source": [
    "We have successfully created the widgets for our bar chart and line chart. In order to use it, first we have to initialize them.\n",
    "Let us create an object for the bar chart class and display it. updateBar function is used to update the 'value' variable."
   ]
  },
  {
   "cell_type": "code",
   "execution_count": 8,
   "metadata": {},
   "outputs": [],
   "source": [
    "barWidget = BarWidget()\n",
    "def updateBar():\n",
    "    barWidget.value = []\n",
    "    barWidget.value = data_average_top5.to_dict(orient='records')\n",
    "updateBar()"
   ]
  },
  {
   "cell_type": "markdown",
   "metadata": {},
   "source": [
    "After initializing the barwidget, we call `updateBar` method first time to send the initial state to the widget. Then by running the below widget we can see the bar chart."
   ]
  },
  {
   "cell_type": "code",
   "execution_count": 9,
   "metadata": {},
   "outputs": [
    {
     "data": {
      "application/vnd.jupyter.widget-view+json": {
       "model_id": "d50c6b7b3be843ef8e826ad598a6e3d3",
       "version_major": 2,
       "version_minor": 0
      },
      "text/plain": [
       "BarWidget(value=[{'player_name': 'Alexis Sanchez', 'average_score': 80.9625}, {'player_name': 'Andres Iniesta'…"
      ]
     },
     "metadata": {},
     "output_type": "display_data"
    }
   ],
   "source": [
    "display(barWidget)\n",
    "updateBar()"
   ]
  },
  {
   "cell_type": "markdown",
   "metadata": {},
   "source": [
    "To make sure our selection works, click on any bar in the above chart and run the following cell to display the player name."
   ]
  },
  {
   "cell_type": "code",
   "execution_count": 13,
   "metadata": {},
   "outputs": [
    {
     "data": {
      "text/plain": [
       "'Andres Iniesta'"
      ]
     },
     "execution_count": 13,
     "metadata": {},
     "output_type": "execute_result"
    }
   ],
   "source": [
    "barWidget.player_name"
   ]
  },
  {
   "cell_type": "markdown",
   "metadata": {},
   "source": [
    "We need to initialize the line widget before using it. Once the user clicks on any bar in the above chart, `updateLineChart` function in the below cell filters the data based on the player name. Also this function updates the value that is being sent to the line chart. The data here is the score of the selected player over the years."
   ]
  },
  {
   "cell_type": "code",
   "execution_count": 14,
   "metadata": {},
   "outputs": [],
   "source": [
    "lineWidget = LineWidget()\n",
    "def updateLineChart(name):\n",
    "    filterByName = players_data[players_data[\"player_name\"]==name]\n",
    "    jsonValue = filterByName[[\"player_name\", \"overall_rating\", \"year\"]]\n",
    "    lineWidget.value = []\n",
    "    lineWidget.value = jsonValue.to_dict(orient='records')\n",
    "updateLineChart(barWidget.player_name)"
   ]
  },
  {
   "cell_type": "markdown",
   "metadata": {},
   "source": [
    "After selecting any player from above bar chart, we will run the following cell to show the progress of him over the years.\n",
    "If the user wants to see the line chart of a different player, user needs to select a player from the bar chart and re-run the below cell."
   ]
  },
  {
   "cell_type": "code",
   "execution_count": 15,
   "metadata": {},
   "outputs": [
    {
     "data": {
      "application/vnd.jupyter.widget-view+json": {
       "model_id": "7890773bd9c54992bf6e7a797d8fce58",
       "version_major": 2,
       "version_minor": 0
      },
      "text/plain": [
       "LineWidget(value=[{'player_name': 'Andres Iniesta', 'overall_rating': 83.5, 'year': 2007}, {'player_name': 'An…"
      ]
     },
     "metadata": {},
     "output_type": "display_data"
    }
   ],
   "source": [
    "display(lineWidget)\n",
    "updateLineChart(barWidget.player_name)"
   ]
  },
  {
   "cell_type": "markdown",
   "metadata": {},
   "source": [
    "## Example 2: Bar chart - Filter\n",
    "\n",
    "This example shows the implementation of filtering.\n",
    "\n",
    "The below bar chart shows the average score of all 50 players. We will have a text box to enter a number, then the plot will be updated to show the players having average score of more than or equal to the entered number. "
   ]
  },
  {
   "cell_type": "code",
   "execution_count": 16,
   "metadata": {
    "scrolled": false
   },
   "outputs": [
    {
     "data": {
      "application/vnd.jupyter.widget-view+json": {
       "model_id": "4f8e0564c68d40fcbc8872fdb65f0a30",
       "version_major": 2,
       "version_minor": 0
      },
      "text/plain": [
       "FloatText(value=0.0, description='Show player with score more than or equal to:')"
      ]
     },
     "metadata": {},
     "output_type": "display_data"
    },
    {
     "data": {
      "application/vnd.jupyter.widget-view+json": {
       "model_id": "28f4bb57d28f4bf4b04a573e68ddaee2",
       "version_major": 2,
       "version_minor": 0
      },
      "text/plain": [
       "BarWidget(value=[{'player_name': 'Alexis Sanchez', 'average_score': 80.9625}, {'player_name': 'Andres Iniesta'…"
      ]
     },
     "metadata": {},
     "output_type": "display_data"
    }
   ],
   "source": [
    "barChart2 = BarWidget()\n",
    "def updateBarChart2(score):\n",
    "    player_with_score = data_average[data_average['average_score']>score['new']]\n",
    "    barChart2.value = []\n",
    "    barChart2.value = player_with_score.to_dict(orient='records')\n",
    "updateBarChart2({'new':0})\n",
    "def createScoreTextBox():\n",
    "    score_text_box = widgets.widgets.FloatText(\n",
    "    value=0,\n",
    "    description='Show player with score more than or equal to:',\n",
    "    disabled=False\n",
    "    )\n",
    "    score_text_box.observe(updateBarChart2, names='value')\n",
    "    display(score_text_box)\n",
    "createScoreTextBox()\n",
    "display(barChart2)\n",
    "updateBarChart2({'new':0})"
   ]
  },
  {
   "cell_type": "markdown",
   "metadata": {},
   "source": [
    "### Example 3 - Range selection using brush\n",
    "\n",
    "The goal is to get the brush selection in d3 plot to python side. It is achieved in the same way as above. The brush selection data is populated in the `selected_years` variable of the LineWidget class.\n",
    "\n",
    "To set the model variable value, use `this.model.set('selected_years')` followed by `this.model.save_changes()`."
   ]
  },
  {
   "cell_type": "code",
   "execution_count": 17,
   "metadata": {},
   "outputs": [],
   "source": [
    "lineWidget2 = LineWidget()\n",
    "def showProgressOfPlayer(name):\n",
    "    filterByName = players_data[players_data[\"player_name\"]==name]\n",
    "    returnData = filterByName[[\"player_name\", \"overall_rating\", \"year\"]]\n",
    "    lineWidget2.value = []\n",
    "    lineWidget2.value = returnData.to_dict(orient='records')\n",
    "showProgressOfPlayer(\"Lionel Messi\")"
   ]
  },
  {
   "cell_type": "markdown",
   "metadata": {},
   "source": [
    "We can see the line chart by running the below cell. The following line chart shows the progress of player Messi. Use the brush tool over the x-axis to select the years. Then we will print the selected years to make sure that we recieve the range"
   ]
  },
  {
   "cell_type": "code",
   "execution_count": null,
   "metadata": {},
   "outputs": [],
   "source": [
    "display(lineWidget2)\n",
    "showProgressOfPlayer(\"Lionel Messi\")"
   ]
  },
  {
   "cell_type": "code",
   "execution_count": null,
   "metadata": {},
   "outputs": [],
   "source": [
    "lineWidget2.selected_years"
   ]
  },
  {
   "cell_type": "markdown",
   "metadata": {},
   "source": [
    "## Conclusion\n",
    "\n",
    "Ipywidgets provides a clean way to establish comminication between front-end and back-end python kernel. The framework uses 'comm' API for this purpose. It allows the programmer to send JSON-able blobs between the front-end and the back-end. The comm API hides the complexity of the webserver, ZMQ, and websockets.\n",
    "\n",
    "I hope this simple project provides a starting point to achieve bi-direction communication in jupyter notebook."
   ]
  },
  {
   "cell_type": "code",
   "execution_count": null,
   "metadata": {},
   "outputs": [],
   "source": []
  }
 ],
 "metadata": {
  "kernelspec": {
   "display_name": "Python 3",
   "language": "python",
   "name": "python3"
  },
  "language_info": {
   "codemirror_mode": {
    "name": "ipython",
    "version": 3
   },
   "file_extension": ".py",
   "mimetype": "text/x-python",
   "name": "python",
   "nbconvert_exporter": "python",
   "pygments_lexer": "ipython3",
   "version": "3.7.2"
  }
 },
 "nbformat": 4,
 "nbformat_minor": 2
}
